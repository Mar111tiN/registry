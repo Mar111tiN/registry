{
 "cells": [
  {
   "cell_type": "markdown",
   "metadata": {},
   "source": [
    "## conversion of the registries into consumable data"
   ]
  },
  {
   "cell_type": "markdown",
   "metadata": {},
   "source": [
    "### STEP 1 ALL data to sample_df\n",
    "+ for multiple timepoints, create individual timepoints"
   ]
  },
  {
   "cell_type": "code",
   "execution_count": null,
   "metadata": {
    "ExecuteTime": {
     "end_time": "2020-07-08T19:55:44.855971Z",
     "start_time": "2020-07-08T19:55:44.678602Z"
    }
   },
   "outputs": [],
   "source": [
    "from registry import get_sample_df\n",
    "\n",
    "excel_file = '../xls/Registries_new2.xlsx'\n",
    "sample_dfs = []"
   ]
  },
  {
   "cell_type": "markdown",
   "metadata": {},
   "source": [
    "### Free BM"
   ]
  },
  {
   "cell_type": "code",
   "execution_count": null,
   "metadata": {
    "ExecuteTime": {
     "end_time": "2020-07-08T19:50:04.202443Z",
     "start_time": "2020-07-08T19:50:03.918457Z"
    }
   },
   "outputs": [],
   "source": [
    "sheet = 'FreeBM'\n",
    "sample_df = get_sample_df(\n",
    "    excel_file, sheet=sheet, \n",
    "    data_cols = ['Date', 'Type', 'Count', 'N2', 'Note', 'DNA'],\n",
    "    time_points = ['Extraction'], \n",
    "    project='FreeBM'\n",
    ")\n",
    "# sample_df\n",
    "sample_dfs.append(sample_df)"
   ]
  },
  {
   "cell_type": "markdown",
   "metadata": {},
   "source": [
    "### AYA"
   ]
  },
  {
   "cell_type": "code",
   "execution_count": null,
   "metadata": {
    "ExecuteTime": {
     "end_time": "2020-06-30T11:59:15.953677Z",
     "start_time": "2020-06-30T11:59:15.671066Z"
    }
   },
   "outputs": [],
   "source": [
    "sheet = 'AYA'\n",
    "sample_df = get_sample_df(\n",
    "    excel_file, sheet=sheet, \n",
    "    data_cols = ['Type', 'Date', 'Count', 'N2', 'Note', 'DNA'],\n",
    "    time_points = ['Extraction'], \n",
    "    project='AYA'\n",
    ")\n",
    "# sample_df\n",
    "sample_dfs.append(sample_df)"
   ]
  },
  {
   "cell_type": "markdown",
   "metadata": {},
   "source": [
    "### CarTC"
   ]
  },
  {
   "cell_type": "code",
   "execution_count": null,
   "metadata": {
    "ExecuteTime": {
     "end_time": "2020-06-30T11:59:16.704007Z",
     "start_time": "2020-06-30T11:59:16.392076Z"
    }
   },
   "outputs": [],
   "source": [
    "sheet = 'CAR-TC'\n",
    "sample_df = get_sample_df(\n",
    "    excel_file, sheet=sheet, \n",
    "    data_cols = ['Date', 'Count', 'N2', 'Note', 'DNA'],\n",
    "    time_points = ['d0', 'd30', 'd100'], \n",
    "    project='CAR-TC'\n",
    ")\n",
    "# sample_df\n",
    "sample_dfs.append(sample_df)"
   ]
  },
  {
   "cell_type": "markdown",
   "metadata": {},
   "source": [
    "### MM"
   ]
  },
  {
   "cell_type": "code",
   "execution_count": null,
   "metadata": {
    "ExecuteTime": {
     "end_time": "2020-06-30T11:59:17.342947Z",
     "start_time": "2020-06-30T11:59:17.031719Z"
    }
   },
   "outputs": [],
   "source": [
    "sheet = 'MM'\n",
    "sample_df = get_sample_df(\n",
    "    excel_file, sheet=sheet, \n",
    "    data_cols = ['Date', 'Count', 'N2', 'DNA', 'Note'],\n",
    "    time_points = ['1 Pre-induction-chemo', '2 Pre-Cyclo-mobilisation', '3 SC-Apharese', '4 Pre-HD', '5 SC-transplant', '6 Post-HD', '7 Extra'], \n",
    "    project='MM',\n",
    "    sample_type = 'PB'\n",
    ")\n",
    "# sample_df\n",
    "sample_dfs.append(sample_df)"
   ]
  },
  {
   "cell_type": "markdown",
   "metadata": {},
   "source": [
    "### MPN"
   ]
  },
  {
   "cell_type": "code",
   "execution_count": null,
   "metadata": {
    "ExecuteTime": {
     "end_time": "2020-06-30T11:59:18.109511Z",
     "start_time": "2020-06-30T11:59:17.740979Z"
    }
   },
   "outputs": [],
   "source": [
    "sheet = 'MPN'\n",
    "sample_df = get_sample_df(\n",
    "    excel_file, sheet=sheet, \n",
    "    data_cols = ['Date', 'Count', 'N2', 'DNA', 'Note'],\n",
    "    time_points = ['1', '2', '3', '4', '5', '6', '7'], \n",
    "    project='MPN'\n",
    ")\n",
    "# sample_df\n",
    "sample_dfs.append(sample_df)"
   ]
  },
  {
   "cell_type": "markdown",
   "metadata": {},
   "source": [
    "### LymphomaCHIP"
   ]
  },
  {
   "cell_type": "code",
   "execution_count": null,
   "metadata": {
    "ExecuteTime": {
     "end_time": "2020-06-30T11:59:18.768615Z",
     "start_time": "2020-06-30T11:59:18.424853Z"
    }
   },
   "outputs": [],
   "source": [
    "sheet = 'LymphomaCHIP'\n",
    "sample_df = get_sample_df(\n",
    "    excel_file, sheet=sheet, \n",
    "    data_cols = ['Date', 'Count', 'N2', 'DNA', 'Note'],\n",
    "    time_points = ['GI1', 'GI2', 'GI3', 'GI4'], \n",
    "    project='LymphomaCHIP'\n",
    ")\n",
    "# sample_df\n",
    "sample_dfs.append(sample_df)"
   ]
  },
  {
   "cell_type": "markdown",
   "metadata": {},
   "source": [
    "### KOMP"
   ]
  },
  {
   "cell_type": "code",
   "execution_count": null,
   "metadata": {
    "ExecuteTime": {
     "end_time": "2020-06-30T11:59:19.550901Z",
     "start_time": "2020-06-30T11:59:19.149892Z"
    }
   },
   "outputs": [],
   "source": [
    "sheet = 'KOMP'\n",
    "sample_df = get_sample_df(\n",
    "    excel_file, sheet=sheet,\n",
    "    patient_cols = ['PatientID', 'LastName', 'FirstName', 'DOB', 'SAP', 'Clinix'],\n",
    "    data_cols = ['Date', 'Count', 'N2', 'DNA', 'Note'],\n",
    "    time_points = ['PB', 'KM'], \n",
    "    project='KOMP'\n",
    ")\n",
    "# sample_df[:100]  #.query('FirstName == \"Silvia\"')\n",
    "sample_dfs.append(sample_df)"
   ]
  },
  {
   "cell_type": "markdown",
   "metadata": {},
   "source": [
    "### Leukemia"
   ]
  },
  {
   "cell_type": "code",
   "execution_count": null,
   "metadata": {
    "ExecuteTime": {
     "end_time": "2020-06-30T11:59:20.341037Z",
     "start_time": "2020-06-30T11:59:19.979281Z"
    }
   },
   "outputs": [],
   "source": [
    "sheet = 'Leukemia'\n",
    "sample_df = get_sample_df(\n",
    "    excel_file, sheet=sheet, \n",
    "    data_cols = ['Date', 'Count', 'N2', 'DNA', 'Note'],\n",
    "    time_points = ['1', '2', '3', '4', '5', '6'], \n",
    "    project='Leukemia'\n",
    ")\n",
    "# sample_df\n",
    "sample_dfs.append(sample_df)"
   ]
  },
  {
   "cell_type": "markdown",
   "metadata": {},
   "source": [
    "### Klonale Hämato"
   ]
  },
  {
   "cell_type": "code",
   "execution_count": null,
   "metadata": {
    "ExecuteTime": {
     "end_time": "2020-06-30T11:59:21.269230Z",
     "start_time": "2020-06-30T11:59:20.742738Z"
    }
   },
   "outputs": [],
   "source": [
    "sheet = 'KH'\n",
    "sample_df = get_sample_df(\n",
    "    excel_file, sheet=sheet, \n",
    "    data_cols = ['Date', 'Type', 'Count', 'N2', 'DNA', 'N2removed', 'Note'],\n",
    "    time_points = ['sample'], \n",
    "    project='KH'\n",
    ").drop_duplicates()\n",
    "# sample_df\n",
    "sample_dfs.append(sample_df)"
   ]
  },
  {
   "cell_type": "markdown",
   "metadata": {},
   "source": [
    "### GI"
   ]
  },
  {
   "cell_type": "code",
   "execution_count": null,
   "metadata": {
    "ExecuteTime": {
     "end_time": "2020-06-30T11:59:22.089463Z",
     "start_time": "2020-06-30T11:59:21.699703Z"
    }
   },
   "outputs": [],
   "source": [
    "sheet = 'GI'\n",
    "sample_df = get_sample_df(\n",
    "    excel_file, sheet=sheet, \n",
    "    data_cols = ['Date', 'Count', 'N2', 'DNA', 'Note'],\n",
    "    time_points = ['GI1', 'GI2', 'GI3', 'GI4', 'GI5', 'GI10'], \n",
    "    project='GI',\n",
    "    sample_type = None\n",
    ")\n",
    "# sample_df\n",
    "sample_dfs.append(sample_df)"
   ]
  },
  {
   "cell_type": "code",
   "execution_count": null,
   "metadata": {
    "ExecuteTime": {
     "end_time": "2020-06-30T11:59:24.269676Z",
     "start_time": "2020-06-30T11:59:24.163247Z"
    }
   },
   "outputs": [],
   "source": [
    "samples_df = pd.concat(sample_dfs)\n",
    "samples_df[:100]"
   ]
  },
  {
   "cell_type": "code",
   "execution_count": null,
   "metadata": {},
   "outputs": [],
   "source": [
    "excel_out = '../converted/samples.xlsx'\n",
    "with ExcelWriter(excel_out) as writer:\n",
    "    samples_df.to_excel(writer, sheet_name='all', index=False)"
   ]
  },
  {
   "cell_type": "code",
   "execution_count": null,
   "metadata": {},
   "outputs": [],
   "source": []
  }
 ],
 "metadata": {
  "kernelspec": {
   "display_name": "Python 3",
   "language": "python",
   "name": "python3"
  },
  "language_info": {
   "codemirror_mode": {
    "name": "ipython",
    "version": 3
   },
   "file_extension": ".py",
   "mimetype": "text/x-python",
   "name": "python",
   "nbconvert_exporter": "python",
   "pygments_lexer": "ipython3",
   "version": "3.8.2"
  },
  "varInspector": {
   "cols": {
    "lenName": 16,
    "lenType": 16,
    "lenVar": 40
   },
   "kernels_config": {
    "python": {
     "delete_cmd_postfix": "",
     "delete_cmd_prefix": "del ",
     "library": "var_list.py",
     "varRefreshCmd": "print(var_dic_list())"
    },
    "r": {
     "delete_cmd_postfix": ") ",
     "delete_cmd_prefix": "rm(",
     "library": "var_list.r",
     "varRefreshCmd": "cat(var_dic_list()) "
    }
   },
   "types_to_exclude": [
    "module",
    "function",
    "builtin_function_or_method",
    "instance",
    "_Feature"
   ],
   "window_display": false
  }
 },
 "nbformat": 4,
 "nbformat_minor": 2
}
